{
  "cells": [
    {
      "cell_type": "code",
      "execution_count": null,
      "id": "f7e84d18",
      "metadata": {
        "id": "f7e84d18"
      },
      "outputs": [],
      "source": [
        "import numpy as np\n",
        "import pandas as pd"
      ]
    },
    {
      "cell_type": "code",
      "execution_count": null,
      "id": "dd912c0e",
      "metadata": {
        "id": "dd912c0e",
        "outputId": "132e1ac9-0251-4293-ad93-d3a96ad8f489",
        "colab": {
          "base_uri": "https://localhost:8080/",
          "height": 304
        }
      },
      "outputs": [
        {
          "output_type": "error",
          "ename": "FileNotFoundError",
          "evalue": "[Errno 2] No such file or directory: 'megaGymDataset.csv'",
          "traceback": [
            "\u001b[0;31m---------------------------------------------------------------------------\u001b[0m",
            "\u001b[0;31mFileNotFoundError\u001b[0m                         Traceback (most recent call last)",
            "\u001b[0;32m<ipython-input-4-e51699f974fb>\u001b[0m in \u001b[0;36m<cell line: 1>\u001b[0;34m()\u001b[0m\n\u001b[0;32m----> 1\u001b[0;31m \u001b[0mexercise\u001b[0m \u001b[0;34m=\u001b[0m \u001b[0mpd\u001b[0m\u001b[0;34m.\u001b[0m\u001b[0mread_csv\u001b[0m\u001b[0;34m(\u001b[0m\u001b[0;34m'megaGymDataset.csv'\u001b[0m\u001b[0;34m)\u001b[0m\u001b[0;34m\u001b[0m\u001b[0;34m\u001b[0m\u001b[0m\n\u001b[0m",
            "\u001b[0;32m/usr/local/lib/python3.10/dist-packages/pandas/util/_decorators.py\u001b[0m in \u001b[0;36mwrapper\u001b[0;34m(*args, **kwargs)\u001b[0m\n\u001b[1;32m    209\u001b[0m                 \u001b[0;32melse\u001b[0m\u001b[0;34m:\u001b[0m\u001b[0;34m\u001b[0m\u001b[0;34m\u001b[0m\u001b[0m\n\u001b[1;32m    210\u001b[0m                     \u001b[0mkwargs\u001b[0m\u001b[0;34m[\u001b[0m\u001b[0mnew_arg_name\u001b[0m\u001b[0;34m]\u001b[0m \u001b[0;34m=\u001b[0m \u001b[0mnew_arg_value\u001b[0m\u001b[0;34m\u001b[0m\u001b[0;34m\u001b[0m\u001b[0m\n\u001b[0;32m--> 211\u001b[0;31m             \u001b[0;32mreturn\u001b[0m \u001b[0mfunc\u001b[0m\u001b[0;34m(\u001b[0m\u001b[0;34m*\u001b[0m\u001b[0margs\u001b[0m\u001b[0;34m,\u001b[0m \u001b[0;34m**\u001b[0m\u001b[0mkwargs\u001b[0m\u001b[0;34m)\u001b[0m\u001b[0;34m\u001b[0m\u001b[0;34m\u001b[0m\u001b[0m\n\u001b[0m\u001b[1;32m    212\u001b[0m \u001b[0;34m\u001b[0m\u001b[0m\n\u001b[1;32m    213\u001b[0m         \u001b[0;32mreturn\u001b[0m \u001b[0mcast\u001b[0m\u001b[0;34m(\u001b[0m\u001b[0mF\u001b[0m\u001b[0;34m,\u001b[0m \u001b[0mwrapper\u001b[0m\u001b[0;34m)\u001b[0m\u001b[0;34m\u001b[0m\u001b[0;34m\u001b[0m\u001b[0m\n",
            "\u001b[0;32m/usr/local/lib/python3.10/dist-packages/pandas/util/_decorators.py\u001b[0m in \u001b[0;36mwrapper\u001b[0;34m(*args, **kwargs)\u001b[0m\n\u001b[1;32m    329\u001b[0m                     \u001b[0mstacklevel\u001b[0m\u001b[0;34m=\u001b[0m\u001b[0mfind_stack_level\u001b[0m\u001b[0;34m(\u001b[0m\u001b[0;34m)\u001b[0m\u001b[0;34m,\u001b[0m\u001b[0;34m\u001b[0m\u001b[0;34m\u001b[0m\u001b[0m\n\u001b[1;32m    330\u001b[0m                 )\n\u001b[0;32m--> 331\u001b[0;31m             \u001b[0;32mreturn\u001b[0m \u001b[0mfunc\u001b[0m\u001b[0;34m(\u001b[0m\u001b[0;34m*\u001b[0m\u001b[0margs\u001b[0m\u001b[0;34m,\u001b[0m \u001b[0;34m**\u001b[0m\u001b[0mkwargs\u001b[0m\u001b[0;34m)\u001b[0m\u001b[0;34m\u001b[0m\u001b[0;34m\u001b[0m\u001b[0m\n\u001b[0m\u001b[1;32m    332\u001b[0m \u001b[0;34m\u001b[0m\u001b[0m\n\u001b[1;32m    333\u001b[0m         \u001b[0;31m# error: \"Callable[[VarArg(Any), KwArg(Any)], Any]\" has no\u001b[0m\u001b[0;34m\u001b[0m\u001b[0;34m\u001b[0m\u001b[0m\n",
            "\u001b[0;32m/usr/local/lib/python3.10/dist-packages/pandas/io/parsers/readers.py\u001b[0m in \u001b[0;36mread_csv\u001b[0;34m(filepath_or_buffer, sep, delimiter, header, names, index_col, usecols, squeeze, prefix, mangle_dupe_cols, dtype, engine, converters, true_values, false_values, skipinitialspace, skiprows, skipfooter, nrows, na_values, keep_default_na, na_filter, verbose, skip_blank_lines, parse_dates, infer_datetime_format, keep_date_col, date_parser, dayfirst, cache_dates, iterator, chunksize, compression, thousands, decimal, lineterminator, quotechar, quoting, doublequote, escapechar, comment, encoding, encoding_errors, dialect, error_bad_lines, warn_bad_lines, on_bad_lines, delim_whitespace, low_memory, memory_map, float_precision, storage_options)\u001b[0m\n\u001b[1;32m    948\u001b[0m     \u001b[0mkwds\u001b[0m\u001b[0;34m.\u001b[0m\u001b[0mupdate\u001b[0m\u001b[0;34m(\u001b[0m\u001b[0mkwds_defaults\u001b[0m\u001b[0;34m)\u001b[0m\u001b[0;34m\u001b[0m\u001b[0;34m\u001b[0m\u001b[0m\n\u001b[1;32m    949\u001b[0m \u001b[0;34m\u001b[0m\u001b[0m\n\u001b[0;32m--> 950\u001b[0;31m     \u001b[0;32mreturn\u001b[0m \u001b[0m_read\u001b[0m\u001b[0;34m(\u001b[0m\u001b[0mfilepath_or_buffer\u001b[0m\u001b[0;34m,\u001b[0m \u001b[0mkwds\u001b[0m\u001b[0;34m)\u001b[0m\u001b[0;34m\u001b[0m\u001b[0;34m\u001b[0m\u001b[0m\n\u001b[0m\u001b[1;32m    951\u001b[0m \u001b[0;34m\u001b[0m\u001b[0m\n\u001b[1;32m    952\u001b[0m \u001b[0;34m\u001b[0m\u001b[0m\n",
            "\u001b[0;32m/usr/local/lib/python3.10/dist-packages/pandas/io/parsers/readers.py\u001b[0m in \u001b[0;36m_read\u001b[0;34m(filepath_or_buffer, kwds)\u001b[0m\n\u001b[1;32m    603\u001b[0m \u001b[0;34m\u001b[0m\u001b[0m\n\u001b[1;32m    604\u001b[0m     \u001b[0;31m# Create the parser.\u001b[0m\u001b[0;34m\u001b[0m\u001b[0;34m\u001b[0m\u001b[0m\n\u001b[0;32m--> 605\u001b[0;31m     \u001b[0mparser\u001b[0m \u001b[0;34m=\u001b[0m \u001b[0mTextFileReader\u001b[0m\u001b[0;34m(\u001b[0m\u001b[0mfilepath_or_buffer\u001b[0m\u001b[0;34m,\u001b[0m \u001b[0;34m**\u001b[0m\u001b[0mkwds\u001b[0m\u001b[0;34m)\u001b[0m\u001b[0;34m\u001b[0m\u001b[0;34m\u001b[0m\u001b[0m\n\u001b[0m\u001b[1;32m    606\u001b[0m \u001b[0;34m\u001b[0m\u001b[0m\n\u001b[1;32m    607\u001b[0m     \u001b[0;32mif\u001b[0m \u001b[0mchunksize\u001b[0m \u001b[0;32mor\u001b[0m \u001b[0miterator\u001b[0m\u001b[0;34m:\u001b[0m\u001b[0;34m\u001b[0m\u001b[0;34m\u001b[0m\u001b[0m\n",
            "\u001b[0;32m/usr/local/lib/python3.10/dist-packages/pandas/io/parsers/readers.py\u001b[0m in \u001b[0;36m__init__\u001b[0;34m(self, f, engine, **kwds)\u001b[0m\n\u001b[1;32m   1440\u001b[0m \u001b[0;34m\u001b[0m\u001b[0m\n\u001b[1;32m   1441\u001b[0m         \u001b[0mself\u001b[0m\u001b[0;34m.\u001b[0m\u001b[0mhandles\u001b[0m\u001b[0;34m:\u001b[0m \u001b[0mIOHandles\u001b[0m \u001b[0;34m|\u001b[0m \u001b[0;32mNone\u001b[0m \u001b[0;34m=\u001b[0m \u001b[0;32mNone\u001b[0m\u001b[0;34m\u001b[0m\u001b[0;34m\u001b[0m\u001b[0m\n\u001b[0;32m-> 1442\u001b[0;31m         \u001b[0mself\u001b[0m\u001b[0;34m.\u001b[0m\u001b[0m_engine\u001b[0m \u001b[0;34m=\u001b[0m \u001b[0mself\u001b[0m\u001b[0;34m.\u001b[0m\u001b[0m_make_engine\u001b[0m\u001b[0;34m(\u001b[0m\u001b[0mf\u001b[0m\u001b[0;34m,\u001b[0m \u001b[0mself\u001b[0m\u001b[0;34m.\u001b[0m\u001b[0mengine\u001b[0m\u001b[0;34m)\u001b[0m\u001b[0;34m\u001b[0m\u001b[0;34m\u001b[0m\u001b[0m\n\u001b[0m\u001b[1;32m   1443\u001b[0m \u001b[0;34m\u001b[0m\u001b[0m\n\u001b[1;32m   1444\u001b[0m     \u001b[0;32mdef\u001b[0m \u001b[0mclose\u001b[0m\u001b[0;34m(\u001b[0m\u001b[0mself\u001b[0m\u001b[0;34m)\u001b[0m \u001b[0;34m->\u001b[0m \u001b[0;32mNone\u001b[0m\u001b[0;34m:\u001b[0m\u001b[0;34m\u001b[0m\u001b[0;34m\u001b[0m\u001b[0m\n",
            "\u001b[0;32m/usr/local/lib/python3.10/dist-packages/pandas/io/parsers/readers.py\u001b[0m in \u001b[0;36m_make_engine\u001b[0;34m(self, f, engine)\u001b[0m\n\u001b[1;32m   1733\u001b[0m                 \u001b[0;32mif\u001b[0m \u001b[0;34m\"b\"\u001b[0m \u001b[0;32mnot\u001b[0m \u001b[0;32min\u001b[0m \u001b[0mmode\u001b[0m\u001b[0;34m:\u001b[0m\u001b[0;34m\u001b[0m\u001b[0;34m\u001b[0m\u001b[0m\n\u001b[1;32m   1734\u001b[0m                     \u001b[0mmode\u001b[0m \u001b[0;34m+=\u001b[0m \u001b[0;34m\"b\"\u001b[0m\u001b[0;34m\u001b[0m\u001b[0;34m\u001b[0m\u001b[0m\n\u001b[0;32m-> 1735\u001b[0;31m             self.handles = get_handle(\n\u001b[0m\u001b[1;32m   1736\u001b[0m                 \u001b[0mf\u001b[0m\u001b[0;34m,\u001b[0m\u001b[0;34m\u001b[0m\u001b[0;34m\u001b[0m\u001b[0m\n\u001b[1;32m   1737\u001b[0m                 \u001b[0mmode\u001b[0m\u001b[0;34m,\u001b[0m\u001b[0;34m\u001b[0m\u001b[0;34m\u001b[0m\u001b[0m\n",
            "\u001b[0;32m/usr/local/lib/python3.10/dist-packages/pandas/io/common.py\u001b[0m in \u001b[0;36mget_handle\u001b[0;34m(path_or_buf, mode, encoding, compression, memory_map, is_text, errors, storage_options)\u001b[0m\n\u001b[1;32m    854\u001b[0m         \u001b[0;32mif\u001b[0m \u001b[0mioargs\u001b[0m\u001b[0;34m.\u001b[0m\u001b[0mencoding\u001b[0m \u001b[0;32mand\u001b[0m \u001b[0;34m\"b\"\u001b[0m \u001b[0;32mnot\u001b[0m \u001b[0;32min\u001b[0m \u001b[0mioargs\u001b[0m\u001b[0;34m.\u001b[0m\u001b[0mmode\u001b[0m\u001b[0;34m:\u001b[0m\u001b[0;34m\u001b[0m\u001b[0;34m\u001b[0m\u001b[0m\n\u001b[1;32m    855\u001b[0m             \u001b[0;31m# Encoding\u001b[0m\u001b[0;34m\u001b[0m\u001b[0;34m\u001b[0m\u001b[0m\n\u001b[0;32m--> 856\u001b[0;31m             handle = open(\n\u001b[0m\u001b[1;32m    857\u001b[0m                 \u001b[0mhandle\u001b[0m\u001b[0;34m,\u001b[0m\u001b[0;34m\u001b[0m\u001b[0;34m\u001b[0m\u001b[0m\n\u001b[1;32m    858\u001b[0m                 \u001b[0mioargs\u001b[0m\u001b[0;34m.\u001b[0m\u001b[0mmode\u001b[0m\u001b[0;34m,\u001b[0m\u001b[0;34m\u001b[0m\u001b[0;34m\u001b[0m\u001b[0m\n",
            "\u001b[0;31mFileNotFoundError\u001b[0m: [Errno 2] No such file or directory: 'megaGymDataset.csv'"
          ]
        }
      ],
      "source": [
        "exercise = pd.read_csv('megaGymDataset.csv')"
      ]
    },
    {
      "cell_type": "code",
      "execution_count": null,
      "id": "676d54e3",
      "metadata": {
        "id": "676d54e3",
        "outputId": "9f00b907-b780-4b2f-e5f8-29fd42bbaa03"
      },
      "outputs": [
        {
          "data": {
            "text/html": [
              "<div>\n",
              "<style scoped>\n",
              "    .dataframe tbody tr th:only-of-type {\n",
              "        vertical-align: middle;\n",
              "    }\n",
              "\n",
              "    .dataframe tbody tr th {\n",
              "        vertical-align: top;\n",
              "    }\n",
              "\n",
              "    .dataframe thead th {\n",
              "        text-align: right;\n",
              "    }\n",
              "</style>\n",
              "<table border=\"1\" class=\"dataframe\">\n",
              "  <thead>\n",
              "    <tr style=\"text-align: right;\">\n",
              "      <th></th>\n",
              "      <th>Unnamed: 0</th>\n",
              "      <th>Title</th>\n",
              "      <th>Desc</th>\n",
              "      <th>Type</th>\n",
              "      <th>BodyPart</th>\n",
              "      <th>Equipment</th>\n",
              "      <th>Level</th>\n",
              "      <th>Rating</th>\n",
              "      <th>RatingDesc</th>\n",
              "    </tr>\n",
              "  </thead>\n",
              "  <tbody>\n",
              "    <tr>\n",
              "      <th>0</th>\n",
              "      <td>0</td>\n",
              "      <td>Partner plank band row</td>\n",
              "      <td>The partner plank band row is an abdominal exe...</td>\n",
              "      <td>Strength</td>\n",
              "      <td>Abdominals</td>\n",
              "      <td>Bands</td>\n",
              "      <td>Intermediate</td>\n",
              "      <td>0.0</td>\n",
              "      <td>NaN</td>\n",
              "    </tr>\n",
              "  </tbody>\n",
              "</table>\n",
              "</div>"
            ],
            "text/plain": [
              "   Unnamed: 0                   Title  \\\n",
              "0           0  Partner plank band row   \n",
              "\n",
              "                                                Desc      Type    BodyPart  \\\n",
              "0  The partner plank band row is an abdominal exe...  Strength  Abdominals   \n",
              "\n",
              "  Equipment         Level  Rating RatingDesc  \n",
              "0     Bands  Intermediate     0.0        NaN  "
            ]
          },
          "execution_count": 3,
          "metadata": {},
          "output_type": "execute_result"
        }
      ],
      "source": [
        "exercise.head(1)"
      ]
    },
    {
      "cell_type": "code",
      "execution_count": null,
      "id": "17948969",
      "metadata": {
        "id": "17948969",
        "outputId": "ad10f873-82ee-43f1-eab7-027e54e2a541"
      },
      "outputs": [
        {
          "data": {
            "text/plain": [
              "(2918, 9)"
            ]
          },
          "execution_count": 4,
          "metadata": {},
          "output_type": "execute_result"
        }
      ],
      "source": [
        "exercise.shape"
      ]
    },
    {
      "cell_type": "code",
      "execution_count": null,
      "id": "f9a17156",
      "metadata": {
        "id": "f9a17156",
        "outputId": "ed870561-b9af-4cb8-8889-48601ae90c72"
      },
      "outputs": [
        {
          "name": "stdout",
          "output_type": "stream",
          "text": [
            "<class 'pandas.core.frame.DataFrame'>\n",
            "RangeIndex: 2918 entries, 0 to 2917\n",
            "Data columns (total 9 columns):\n",
            " #   Column      Non-Null Count  Dtype  \n",
            "---  ------      --------------  -----  \n",
            " 0   Unnamed: 0  2918 non-null   int64  \n",
            " 1   Title       2918 non-null   object \n",
            " 2   Desc        1368 non-null   object \n",
            " 3   Type        2918 non-null   object \n",
            " 4   BodyPart    2918 non-null   object \n",
            " 5   Equipment   2918 non-null   object \n",
            " 6   Level       2918 non-null   object \n",
            " 7   Rating      1031 non-null   float64\n",
            " 8   RatingDesc  862 non-null    object \n",
            "dtypes: float64(1), int64(1), object(7)\n",
            "memory usage: 205.3+ KB\n"
          ]
        }
      ],
      "source": [
        "#Title\n",
        "#Desc\n",
        "#Type\n",
        "#BodyPart\n",
        "#Equipment\n",
        "#Length\n",
        "exercise.info()"
      ]
    },
    {
      "cell_type": "code",
      "execution_count": null,
      "id": "025875d6",
      "metadata": {
        "id": "025875d6"
      },
      "outputs": [],
      "source": [
        "exercise=exercise[['Title','Desc','Type','BodyPart','Equipment','Level']]"
      ]
    },
    {
      "cell_type": "code",
      "execution_count": null,
      "id": "39ef7f50",
      "metadata": {
        "id": "39ef7f50",
        "outputId": "e28fa0ac-2aa7-43ed-9f3f-c1fe52b7b68c"
      },
      "outputs": [
        {
          "data": {
            "text/html": [
              "<div>\n",
              "<style scoped>\n",
              "    .dataframe tbody tr th:only-of-type {\n",
              "        vertical-align: middle;\n",
              "    }\n",
              "\n",
              "    .dataframe tbody tr th {\n",
              "        vertical-align: top;\n",
              "    }\n",
              "\n",
              "    .dataframe thead th {\n",
              "        text-align: right;\n",
              "    }\n",
              "</style>\n",
              "<table border=\"1\" class=\"dataframe\">\n",
              "  <thead>\n",
              "    <tr style=\"text-align: right;\">\n",
              "      <th></th>\n",
              "      <th>Title</th>\n",
              "      <th>Desc</th>\n",
              "      <th>Type</th>\n",
              "      <th>BodyPart</th>\n",
              "      <th>Equipment</th>\n",
              "      <th>Level</th>\n",
              "    </tr>\n",
              "  </thead>\n",
              "  <tbody>\n",
              "    <tr>\n",
              "      <th>0</th>\n",
              "      <td>Partner plank band row</td>\n",
              "      <td>The partner plank band row is an abdominal exe...</td>\n",
              "      <td>Strength</td>\n",
              "      <td>Abdominals</td>\n",
              "      <td>Bands</td>\n",
              "      <td>Intermediate</td>\n",
              "    </tr>\n",
              "    <tr>\n",
              "      <th>1</th>\n",
              "      <td>Banded crunch isometric hold</td>\n",
              "      <td>The banded crunch isometric hold is an exercis...</td>\n",
              "      <td>Strength</td>\n",
              "      <td>Abdominals</td>\n",
              "      <td>Bands</td>\n",
              "      <td>Intermediate</td>\n",
              "    </tr>\n",
              "    <tr>\n",
              "      <th>2</th>\n",
              "      <td>FYR Banded Plank Jack</td>\n",
              "      <td>The banded plank jack is a variation on the pl...</td>\n",
              "      <td>Strength</td>\n",
              "      <td>Abdominals</td>\n",
              "      <td>Bands</td>\n",
              "      <td>Intermediate</td>\n",
              "    </tr>\n",
              "    <tr>\n",
              "      <th>3</th>\n",
              "      <td>Banded crunch</td>\n",
              "      <td>The banded crunch is an exercise targeting the...</td>\n",
              "      <td>Strength</td>\n",
              "      <td>Abdominals</td>\n",
              "      <td>Bands</td>\n",
              "      <td>Intermediate</td>\n",
              "    </tr>\n",
              "    <tr>\n",
              "      <th>4</th>\n",
              "      <td>Crunch</td>\n",
              "      <td>The crunch is a popular core exercise targetin...</td>\n",
              "      <td>Strength</td>\n",
              "      <td>Abdominals</td>\n",
              "      <td>Bands</td>\n",
              "      <td>Intermediate</td>\n",
              "    </tr>\n",
              "  </tbody>\n",
              "</table>\n",
              "</div>"
            ],
            "text/plain": [
              "                          Title  \\\n",
              "0        Partner plank band row   \n",
              "1  Banded crunch isometric hold   \n",
              "2         FYR Banded Plank Jack   \n",
              "3                 Banded crunch   \n",
              "4                        Crunch   \n",
              "\n",
              "                                                Desc      Type    BodyPart  \\\n",
              "0  The partner plank band row is an abdominal exe...  Strength  Abdominals   \n",
              "1  The banded crunch isometric hold is an exercis...  Strength  Abdominals   \n",
              "2  The banded plank jack is a variation on the pl...  Strength  Abdominals   \n",
              "3  The banded crunch is an exercise targeting the...  Strength  Abdominals   \n",
              "4  The crunch is a popular core exercise targetin...  Strength  Abdominals   \n",
              "\n",
              "  Equipment         Level  \n",
              "0     Bands  Intermediate  \n",
              "1     Bands  Intermediate  \n",
              "2     Bands  Intermediate  \n",
              "3     Bands  Intermediate  \n",
              "4     Bands  Intermediate  "
            ]
          },
          "execution_count": 7,
          "metadata": {},
          "output_type": "execute_result"
        }
      ],
      "source": [
        "exercise.head()"
      ]
    },
    {
      "cell_type": "code",
      "execution_count": null,
      "id": "fc3abb42",
      "metadata": {
        "id": "fc3abb42"
      },
      "outputs": [],
      "source": [
        "import ast"
      ]
    },
    {
      "cell_type": "code",
      "execution_count": null,
      "id": "fd7ad999",
      "metadata": {
        "id": "fd7ad999",
        "outputId": "ece41de9-bd68-4a58-9b4b-a6290b5115bc"
      },
      "outputs": [
        {
          "data": {
            "text/plain": [
              "Title           0\n",
              "Desc         1550\n",
              "Type            0\n",
              "BodyPart        0\n",
              "Equipment       0\n",
              "Level           0\n",
              "dtype: int64"
            ]
          },
          "execution_count": 9,
          "metadata": {},
          "output_type": "execute_result"
        }
      ],
      "source": [
        "exercise.isnull().sum()"
      ]
    },
    {
      "cell_type": "code",
      "execution_count": null,
      "id": "5ef168ef",
      "metadata": {
        "id": "5ef168ef"
      },
      "outputs": [],
      "source": [
        "exercise.dropna(inplace=True)"
      ]
    },
    {
      "cell_type": "code",
      "execution_count": null,
      "id": "2bc218ad",
      "metadata": {
        "id": "2bc218ad"
      },
      "outputs": [],
      "source": [
        "def Converttolist(L):\n",
        "    for i in L:\n",
        "       i=i.split()\n",
        "    return"
      ]
    },
    {
      "cell_type": "code",
      "execution_count": null,
      "id": "ce059122",
      "metadata": {
        "id": "ce059122"
      },
      "outputs": [],
      "source": [
        "exercise['tags'] = exercise['Desc'] +\" \"+ exercise['Type'] +\" \"+exercise['BodyPart'] +\" \"+ exercise['Equipment'] +\" \"+ exercise['Level']"
      ]
    },
    {
      "cell_type": "code",
      "execution_count": null,
      "id": "692b3aad",
      "metadata": {
        "id": "692b3aad",
        "outputId": "e45ef2ec-b3a4-441b-d165-c5c7505d48d4"
      },
      "outputs": [
        {
          "data": {
            "text/plain": [
              "'The partner plank band row is an abdominal exercise where two partners perform single-arm planks while pulling on the opposite ends of an exercise band. This technique can be done for time or reps in any ab-focused workout. Strength Abdominals Bands Intermediate'"
            ]
          },
          "execution_count": 13,
          "metadata": {},
          "output_type": "execute_result"
        }
      ],
      "source": [
        "exercise['tags'][0]"
      ]
    },
    {
      "cell_type": "code",
      "execution_count": null,
      "id": "2114e68f",
      "metadata": {
        "id": "2114e68f"
      },
      "outputs": [],
      "source": [
        "new = exercise.drop(columns=['Desc','Type','BodyPart','Equipment','Level'])"
      ]
    },
    {
      "cell_type": "code",
      "execution_count": null,
      "id": "eea33809",
      "metadata": {
        "id": "eea33809",
        "outputId": "e412a676-cf5f-4d60-a1ea-73f192209860"
      },
      "outputs": [
        {
          "data": {
            "text/html": [
              "<div>\n",
              "<style scoped>\n",
              "    .dataframe tbody tr th:only-of-type {\n",
              "        vertical-align: middle;\n",
              "    }\n",
              "\n",
              "    .dataframe tbody tr th {\n",
              "        vertical-align: top;\n",
              "    }\n",
              "\n",
              "    .dataframe thead th {\n",
              "        text-align: right;\n",
              "    }\n",
              "</style>\n",
              "<table border=\"1\" class=\"dataframe\">\n",
              "  <thead>\n",
              "    <tr style=\"text-align: right;\">\n",
              "      <th></th>\n",
              "      <th>Title</th>\n",
              "      <th>tags</th>\n",
              "    </tr>\n",
              "  </thead>\n",
              "  <tbody>\n",
              "    <tr>\n",
              "      <th>0</th>\n",
              "      <td>Partner plank band row</td>\n",
              "      <td>The partner plank band row is an abdominal exe...</td>\n",
              "    </tr>\n",
              "    <tr>\n",
              "      <th>1</th>\n",
              "      <td>Banded crunch isometric hold</td>\n",
              "      <td>The banded crunch isometric hold is an exercis...</td>\n",
              "    </tr>\n",
              "    <tr>\n",
              "      <th>2</th>\n",
              "      <td>FYR Banded Plank Jack</td>\n",
              "      <td>The banded plank jack is a variation on the pl...</td>\n",
              "    </tr>\n",
              "    <tr>\n",
              "      <th>3</th>\n",
              "      <td>Banded crunch</td>\n",
              "      <td>The banded crunch is an exercise targeting the...</td>\n",
              "    </tr>\n",
              "    <tr>\n",
              "      <th>4</th>\n",
              "      <td>Crunch</td>\n",
              "      <td>The crunch is a popular core exercise targetin...</td>\n",
              "    </tr>\n",
              "  </tbody>\n",
              "</table>\n",
              "</div>"
            ],
            "text/plain": [
              "                          Title  \\\n",
              "0        Partner plank band row   \n",
              "1  Banded crunch isometric hold   \n",
              "2         FYR Banded Plank Jack   \n",
              "3                 Banded crunch   \n",
              "4                        Crunch   \n",
              "\n",
              "                                                tags  \n",
              "0  The partner plank band row is an abdominal exe...  \n",
              "1  The banded crunch isometric hold is an exercis...  \n",
              "2  The banded plank jack is a variation on the pl...  \n",
              "3  The banded crunch is an exercise targeting the...  \n",
              "4  The crunch is a popular core exercise targetin...  "
            ]
          },
          "execution_count": 15,
          "metadata": {},
          "output_type": "execute_result"
        }
      ],
      "source": [
        "new.head()"
      ]
    },
    {
      "cell_type": "code",
      "execution_count": null,
      "id": "e0875051",
      "metadata": {
        "id": "e0875051"
      },
      "outputs": [],
      "source": [
        "from sklearn.feature_extraction.text import CountVectorizer\n",
        "cv = CountVectorizer(max_features=5000,stop_words='english')"
      ]
    },
    {
      "cell_type": "code",
      "execution_count": null,
      "id": "f92c37ad",
      "metadata": {
        "id": "f92c37ad"
      },
      "outputs": [],
      "source": [
        "vector = cv.fit_transform(new['Title']).toarray()"
      ]
    },
    {
      "cell_type": "code",
      "execution_count": null,
      "id": "25ca6cf7",
      "metadata": {
        "id": "25ca6cf7"
      },
      "outputs": [],
      "source": [
        "from sklearn.metrics.pairwise import cosine_similarity"
      ]
    },
    {
      "cell_type": "code",
      "execution_count": null,
      "id": "8bfa5a4f",
      "metadata": {
        "id": "8bfa5a4f"
      },
      "outputs": [],
      "source": [
        "similarity = cosine_similarity(vector)"
      ]
    },
    {
      "cell_type": "code",
      "execution_count": null,
      "id": "4939bcf9",
      "metadata": {
        "id": "4939bcf9",
        "outputId": "3ca461f2-3d18-4308-f67e-6e083a6e43ac"
      },
      "outputs": [
        {
          "data": {
            "text/plain": [
              "array([[1.        , 0.        , 0.25      , ..., 0.        , 0.        ,\n",
              "        0.        ],\n",
              "       [0.        , 1.        , 0.25      , ..., 0.        , 0.        ,\n",
              "        0.        ],\n",
              "       [0.25      , 0.25      , 1.        , ..., 0.        , 0.        ,\n",
              "        0.        ],\n",
              "       ...,\n",
              "       [0.        , 0.        , 0.        , ..., 1.        , 0.77459667,\n",
              "        0.40824829],\n",
              "       [0.        , 0.        , 0.        , ..., 0.77459667, 1.        ,\n",
              "        0.31622777],\n",
              "       [0.        , 0.        , 0.        , ..., 0.40824829, 0.31622777,\n",
              "        1.        ]])"
            ]
          },
          "execution_count": 20,
          "metadata": {},
          "output_type": "execute_result"
        }
      ],
      "source": [
        "similarity"
      ]
    },
    {
      "cell_type": "code",
      "execution_count": null,
      "id": "c57ebab3",
      "metadata": {
        "id": "c57ebab3"
      },
      "outputs": [],
      "source": [
        "def recommend(movie):\n",
        "    index = new[new['Title'] == movie].index[0]\n",
        "    distances = sorted(list(enumerate(similarity[index])),reverse=True,key = lambda x: x[1])\n",
        "    for i in distances[1:6]:\n",
        "        print(new.iloc[i[0]].Title)"
      ]
    },
    {
      "cell_type": "code",
      "execution_count": null,
      "id": "5ee93caf",
      "metadata": {
        "id": "5ee93caf",
        "outputId": "590dc535-dadd-4ca1-f207-efd09d125ae0",
        "colab": {
          "base_uri": "https://localhost:8080/",
          "height": 141
        }
      },
      "outputs": [
        {
          "output_type": "error",
          "ename": "NameError",
          "evalue": "name 'recommend' is not defined",
          "traceback": [
            "\u001b[0;31m---------------------------------------------------------------------------\u001b[0m",
            "\u001b[0;31mNameError\u001b[0m                                 Traceback (most recent call last)",
            "\u001b[0;32m<ipython-input-1-effc02c33cf4>\u001b[0m in \u001b[0;36m<cell line: 1>\u001b[0;34m()\u001b[0m\n\u001b[0;32m----> 1\u001b[0;31m \u001b[0mrecommend\u001b[0m\u001b[0;34m(\u001b[0m\u001b[0;34m'Partner plank band row'\u001b[0m\u001b[0;34m)\u001b[0m\u001b[0;34m\u001b[0m\u001b[0;34m\u001b[0m\u001b[0m\n\u001b[0m",
            "\u001b[0;31mNameError\u001b[0m: name 'recommend' is not defined"
          ]
        }
      ],
      "source": [
        "recommend('Partner plank band row')"
      ]
    },
    {
      "cell_type": "code",
      "execution_count": null,
      "id": "5df0069b",
      "metadata": {
        "id": "5df0069b"
      },
      "outputs": [],
      "source": []
    }
  ],
  "metadata": {
    "kernelspec": {
      "display_name": "Python 3 (ipykernel)",
      "language": "python",
      "name": "python3"
    },
    "language_info": {
      "codemirror_mode": {
        "name": "ipython",
        "version": 3
      },
      "file_extension": ".py",
      "mimetype": "text/x-python",
      "name": "python",
      "nbconvert_exporter": "python",
      "pygments_lexer": "ipython3",
      "version": "3.11.4"
    },
    "colab": {
      "provenance": []
    }
  },
  "nbformat": 4,
  "nbformat_minor": 5
}