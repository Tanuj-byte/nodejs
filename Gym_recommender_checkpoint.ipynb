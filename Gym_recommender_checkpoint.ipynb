{
 "cells": [
  {
   "cell_type": "code",
   "execution_count": 1,
   "id": "f7e84d18",
   "metadata": {
    "id": "f7e84d18"
   },
   "outputs": [],
   "source": [
    "import numpy as np\n",
    "import pandas as pd"
   ]
  },
  {
   "cell_type": "code",
   "execution_count": 2,
   "id": "dd912c0e",
   "metadata": {
    "colab": {
     "base_uri": "https://localhost:8080/",
     "height": 304
    },
    "id": "dd912c0e",
    "outputId": "132e1ac9-0251-4293-ad93-d3a96ad8f489"
   },
   "outputs": [],
   "source": [
    "exercise = pd.read_csv('megaGymDataset.csv')"
   ]
  },
  {
   "cell_type": "code",
   "execution_count": 3,
   "id": "676d54e3",
   "metadata": {
    "id": "676d54e3",
    "outputId": "9f00b907-b780-4b2f-e5f8-29fd42bbaa03"
   },
   "outputs": [
    {
     "data": {
      "text/html": [
       "<div>\n",
       "<style scoped>\n",
       "    .dataframe tbody tr th:only-of-type {\n",
       "        vertical-align: middle;\n",
       "    }\n",
       "\n",
       "    .dataframe tbody tr th {\n",
       "        vertical-align: top;\n",
       "    }\n",
       "\n",
       "    .dataframe thead th {\n",
       "        text-align: right;\n",
       "    }\n",
       "</style>\n",
       "<table border=\"1\" class=\"dataframe\">\n",
       "  <thead>\n",
       "    <tr style=\"text-align: right;\">\n",
       "      <th></th>\n",
       "      <th>Unnamed: 0</th>\n",
       "      <th>Title</th>\n",
       "      <th>Desc</th>\n",
       "      <th>Type</th>\n",
       "      <th>BodyPart</th>\n",
       "      <th>Equipment</th>\n",
       "      <th>Level</th>\n",
       "      <th>Rating</th>\n",
       "      <th>RatingDesc</th>\n",
       "    </tr>\n",
       "  </thead>\n",
       "  <tbody>\n",
       "    <tr>\n",
       "      <th>0</th>\n",
       "      <td>0</td>\n",
       "      <td>Partner plank band row</td>\n",
       "      <td>The partner plank band row is an abdominal exe...</td>\n",
       "      <td>Strength</td>\n",
       "      <td>Abdominals</td>\n",
       "      <td>Bands</td>\n",
       "      <td>Intermediate</td>\n",
       "      <td>0.0</td>\n",
       "      <td>NaN</td>\n",
       "    </tr>\n",
       "  </tbody>\n",
       "</table>\n",
       "</div>"
      ],
      "text/plain": [
       "   Unnamed: 0                   Title  \\\n",
       "0           0  Partner plank band row   \n",
       "\n",
       "                                                Desc      Type    BodyPart  \\\n",
       "0  The partner plank band row is an abdominal exe...  Strength  Abdominals   \n",
       "\n",
       "  Equipment         Level  Rating RatingDesc  \n",
       "0     Bands  Intermediate     0.0        NaN  "
      ]
     },
     "execution_count": 3,
     "metadata": {},
     "output_type": "execute_result"
    }
   ],
   "source": [
    "exercise.head(1)"
   ]
  },
  {
   "cell_type": "code",
   "execution_count": 4,
   "id": "17948969",
   "metadata": {
    "id": "17948969",
    "outputId": "ad10f873-82ee-43f1-eab7-027e54e2a541"
   },
   "outputs": [
    {
     "data": {
      "text/plain": [
       "(2918, 9)"
      ]
     },
     "execution_count": 4,
     "metadata": {},
     "output_type": "execute_result"
    }
   ],
   "source": [
    "exercise.shape"
   ]
  },
  {
   "cell_type": "code",
   "execution_count": 5,
   "id": "f9a17156",
   "metadata": {
    "id": "f9a17156",
    "outputId": "ed870561-b9af-4cb8-8889-48601ae90c72"
   },
   "outputs": [
    {
     "name": "stdout",
     "output_type": "stream",
     "text": [
      "<class 'pandas.core.frame.DataFrame'>\n",
      "RangeIndex: 2918 entries, 0 to 2917\n",
      "Data columns (total 9 columns):\n",
      " #   Column      Non-Null Count  Dtype  \n",
      "---  ------      --------------  -----  \n",
      " 0   Unnamed: 0  2918 non-null   int64  \n",
      " 1   Title       2918 non-null   object \n",
      " 2   Desc        1368 non-null   object \n",
      " 3   Type        2918 non-null   object \n",
      " 4   BodyPart    2918 non-null   object \n",
      " 5   Equipment   2886 non-null   object \n",
      " 6   Level       2918 non-null   object \n",
      " 7   Rating      1031 non-null   float64\n",
      " 8   RatingDesc  862 non-null    object \n",
      "dtypes: float64(1), int64(1), object(7)\n",
      "memory usage: 205.3+ KB\n"
     ]
    }
   ],
   "source": [
    "#Title\n",
    "#Desc\n",
    "#Type\n",
    "#BodyPart\n",
    "#Equipment\n",
    "#Length\n",
    "exercise.info()"
   ]
  },
  {
   "cell_type": "code",
   "execution_count": 6,
   "id": "025875d6",
   "metadata": {
    "id": "025875d6"
   },
   "outputs": [],
   "source": [
    "exercise=exercise[['Title','Desc','Type','BodyPart','Equipment','Level']]"
   ]
  },
  {
   "cell_type": "code",
   "execution_count": 7,
   "id": "39ef7f50",
   "metadata": {
    "id": "39ef7f50",
    "outputId": "e28fa0ac-2aa7-43ed-9f3f-c1fe52b7b68c"
   },
   "outputs": [
    {
     "data": {
      "text/html": [
       "<div>\n",
       "<style scoped>\n",
       "    .dataframe tbody tr th:only-of-type {\n",
       "        vertical-align: middle;\n",
       "    }\n",
       "\n",
       "    .dataframe tbody tr th {\n",
       "        vertical-align: top;\n",
       "    }\n",
       "\n",
       "    .dataframe thead th {\n",
       "        text-align: right;\n",
       "    }\n",
       "</style>\n",
       "<table border=\"1\" class=\"dataframe\">\n",
       "  <thead>\n",
       "    <tr style=\"text-align: right;\">\n",
       "      <th></th>\n",
       "      <th>Title</th>\n",
       "      <th>Desc</th>\n",
       "      <th>Type</th>\n",
       "      <th>BodyPart</th>\n",
       "      <th>Equipment</th>\n",
       "      <th>Level</th>\n",
       "    </tr>\n",
       "  </thead>\n",
       "  <tbody>\n",
       "    <tr>\n",
       "      <th>0</th>\n",
       "      <td>Partner plank band row</td>\n",
       "      <td>The partner plank band row is an abdominal exe...</td>\n",
       "      <td>Strength</td>\n",
       "      <td>Abdominals</td>\n",
       "      <td>Bands</td>\n",
       "      <td>Intermediate</td>\n",
       "    </tr>\n",
       "    <tr>\n",
       "      <th>1</th>\n",
       "      <td>Banded crunch isometric hold</td>\n",
       "      <td>The banded crunch isometric hold is an exercis...</td>\n",
       "      <td>Strength</td>\n",
       "      <td>Abdominals</td>\n",
       "      <td>Bands</td>\n",
       "      <td>Intermediate</td>\n",
       "    </tr>\n",
       "    <tr>\n",
       "      <th>2</th>\n",
       "      <td>FYR Banded Plank Jack</td>\n",
       "      <td>The banded plank jack is a variation on the pl...</td>\n",
       "      <td>Strength</td>\n",
       "      <td>Abdominals</td>\n",
       "      <td>Bands</td>\n",
       "      <td>Intermediate</td>\n",
       "    </tr>\n",
       "    <tr>\n",
       "      <th>3</th>\n",
       "      <td>Banded crunch</td>\n",
       "      <td>The banded crunch is an exercise targeting the...</td>\n",
       "      <td>Strength</td>\n",
       "      <td>Abdominals</td>\n",
       "      <td>Bands</td>\n",
       "      <td>Intermediate</td>\n",
       "    </tr>\n",
       "    <tr>\n",
       "      <th>4</th>\n",
       "      <td>Crunch</td>\n",
       "      <td>The crunch is a popular core exercise targetin...</td>\n",
       "      <td>Strength</td>\n",
       "      <td>Abdominals</td>\n",
       "      <td>Bands</td>\n",
       "      <td>Intermediate</td>\n",
       "    </tr>\n",
       "  </tbody>\n",
       "</table>\n",
       "</div>"
      ],
      "text/plain": [
       "                          Title  \\\n",
       "0        Partner plank band row   \n",
       "1  Banded crunch isometric hold   \n",
       "2         FYR Banded Plank Jack   \n",
       "3                 Banded crunch   \n",
       "4                        Crunch   \n",
       "\n",
       "                                                Desc      Type    BodyPart  \\\n",
       "0  The partner plank band row is an abdominal exe...  Strength  Abdominals   \n",
       "1  The banded crunch isometric hold is an exercis...  Strength  Abdominals   \n",
       "2  The banded plank jack is a variation on the pl...  Strength  Abdominals   \n",
       "3  The banded crunch is an exercise targeting the...  Strength  Abdominals   \n",
       "4  The crunch is a popular core exercise targetin...  Strength  Abdominals   \n",
       "\n",
       "  Equipment         Level  \n",
       "0     Bands  Intermediate  \n",
       "1     Bands  Intermediate  \n",
       "2     Bands  Intermediate  \n",
       "3     Bands  Intermediate  \n",
       "4     Bands  Intermediate  "
      ]
     },
     "execution_count": 7,
     "metadata": {},
     "output_type": "execute_result"
    }
   ],
   "source": [
    "exercise.head()"
   ]
  },
  {
   "cell_type": "code",
   "execution_count": 8,
   "id": "fc3abb42",
   "metadata": {
    "id": "fc3abb42"
   },
   "outputs": [],
   "source": [
    "import ast"
   ]
  },
  {
   "cell_type": "code",
   "execution_count": 9,
   "id": "fd7ad999",
   "metadata": {
    "id": "fd7ad999",
    "outputId": "ece41de9-bd68-4a58-9b4b-a6290b5115bc"
   },
   "outputs": [
    {
     "data": {
      "text/plain": [
       "Title           0\n",
       "Desc         1550\n",
       "Type            0\n",
       "BodyPart        0\n",
       "Equipment      32\n",
       "Level           0\n",
       "dtype: int64"
      ]
     },
     "execution_count": 9,
     "metadata": {},
     "output_type": "execute_result"
    }
   ],
   "source": [
    "exercise.isnull().sum()"
   ]
  },
  {
   "cell_type": "code",
   "execution_count": 10,
   "id": "5ef168ef",
   "metadata": {
    "id": "5ef168ef"
   },
   "outputs": [],
   "source": [
    "exercise.dropna(inplace=True)"
   ]
  },
  {
   "cell_type": "code",
   "execution_count": 11,
   "id": "2bc218ad",
   "metadata": {
    "id": "2bc218ad"
   },
   "outputs": [],
   "source": [
    "def Converttolist(L):\n",
    "    for i in L:\n",
    "       i=i.split()\n",
    "    return"
   ]
  },
  {
   "cell_type": "code",
   "execution_count": 12,
   "id": "ce059122",
   "metadata": {
    "id": "ce059122"
   },
   "outputs": [],
   "source": [
    "exercise['tags'] = exercise['Desc'] +\" \"+ exercise['Type'] +\" \"+exercise['BodyPart'] +\" \"+ exercise['Equipment'] +\" \"+ exercise['Level']"
   ]
  },
  {
   "cell_type": "code",
   "execution_count": 13,
   "id": "692b3aad",
   "metadata": {
    "id": "692b3aad",
    "outputId": "e45ef2ec-b3a4-441b-d165-c5c7505d48d4"
   },
   "outputs": [
    {
     "data": {
      "text/plain": [
       "'The partner plank band row is an abdominal exercise where two partners perform single-arm planks while pulling on the opposite ends of an exercise band. This technique can be done for time or reps in any ab-focused workout. Strength Abdominals Bands Intermediate'"
      ]
     },
     "execution_count": 13,
     "metadata": {},
     "output_type": "execute_result"
    }
   ],
   "source": [
    "exercise['tags'][0]"
   ]
  },
  {
   "cell_type": "code",
   "execution_count": 14,
   "id": "2114e68f",
   "metadata": {
    "id": "2114e68f"
   },
   "outputs": [],
   "source": [
    "new = exercise.drop(columns=['Desc','Type','BodyPart','Equipment','Level'])"
   ]
  },
  {
   "cell_type": "code",
   "execution_count": 15,
   "id": "eea33809",
   "metadata": {
    "id": "eea33809",
    "outputId": "e412a676-cf5f-4d60-a1ea-73f192209860"
   },
   "outputs": [
    {
     "data": {
      "text/html": [
       "<div>\n",
       "<style scoped>\n",
       "    .dataframe tbody tr th:only-of-type {\n",
       "        vertical-align: middle;\n",
       "    }\n",
       "\n",
       "    .dataframe tbody tr th {\n",
       "        vertical-align: top;\n",
       "    }\n",
       "\n",
       "    .dataframe thead th {\n",
       "        text-align: right;\n",
       "    }\n",
       "</style>\n",
       "<table border=\"1\" class=\"dataframe\">\n",
       "  <thead>\n",
       "    <tr style=\"text-align: right;\">\n",
       "      <th></th>\n",
       "      <th>Title</th>\n",
       "      <th>tags</th>\n",
       "    </tr>\n",
       "  </thead>\n",
       "  <tbody>\n",
       "    <tr>\n",
       "      <th>0</th>\n",
       "      <td>Partner plank band row</td>\n",
       "      <td>The partner plank band row is an abdominal exe...</td>\n",
       "    </tr>\n",
       "    <tr>\n",
       "      <th>1</th>\n",
       "      <td>Banded crunch isometric hold</td>\n",
       "      <td>The banded crunch isometric hold is an exercis...</td>\n",
       "    </tr>\n",
       "    <tr>\n",
       "      <th>2</th>\n",
       "      <td>FYR Banded Plank Jack</td>\n",
       "      <td>The banded plank jack is a variation on the pl...</td>\n",
       "    </tr>\n",
       "    <tr>\n",
       "      <th>3</th>\n",
       "      <td>Banded crunch</td>\n",
       "      <td>The banded crunch is an exercise targeting the...</td>\n",
       "    </tr>\n",
       "    <tr>\n",
       "      <th>4</th>\n",
       "      <td>Crunch</td>\n",
       "      <td>The crunch is a popular core exercise targetin...</td>\n",
       "    </tr>\n",
       "  </tbody>\n",
       "</table>\n",
       "</div>"
      ],
      "text/plain": [
       "                          Title  \\\n",
       "0        Partner plank band row   \n",
       "1  Banded crunch isometric hold   \n",
       "2         FYR Banded Plank Jack   \n",
       "3                 Banded crunch   \n",
       "4                        Crunch   \n",
       "\n",
       "                                                tags  \n",
       "0  The partner plank band row is an abdominal exe...  \n",
       "1  The banded crunch isometric hold is an exercis...  \n",
       "2  The banded plank jack is a variation on the pl...  \n",
       "3  The banded crunch is an exercise targeting the...  \n",
       "4  The crunch is a popular core exercise targetin...  "
      ]
     },
     "execution_count": 15,
     "metadata": {},
     "output_type": "execute_result"
    }
   ],
   "source": [
    "new.head()"
   ]
  },
  {
   "cell_type": "code",
   "execution_count": 16,
   "id": "e0875051",
   "metadata": {
    "id": "e0875051"
   },
   "outputs": [],
   "source": [
    "from sklearn.feature_extraction.text import CountVectorizer\n",
    "cv = CountVectorizer(max_features=5000,stop_words='english')"
   ]
  },
  {
   "cell_type": "code",
   "execution_count": 17,
   "id": "f92c37ad",
   "metadata": {
    "id": "f92c37ad"
   },
   "outputs": [],
   "source": [
    "vector = cv.fit_transform(new['Title']).toarray()"
   ]
  },
  {
   "cell_type": "code",
   "execution_count": 18,
   "id": "25ca6cf7",
   "metadata": {
    "id": "25ca6cf7"
   },
   "outputs": [],
   "source": [
    "from sklearn.metrics.pairwise import cosine_similarity"
   ]
  },
  {
   "cell_type": "code",
   "execution_count": 19,
   "id": "8bfa5a4f",
   "metadata": {
    "id": "8bfa5a4f"
   },
   "outputs": [],
   "source": [
    "similarity = cosine_similarity(vector)"
   ]
  },
  {
   "cell_type": "code",
   "execution_count": 20,
   "id": "4939bcf9",
   "metadata": {
    "id": "4939bcf9",
    "outputId": "3ca461f2-3d18-4308-f67e-6e083a6e43ac"
   },
   "outputs": [
    {
     "data": {
      "text/plain": [
       "array([[1.        , 0.        , 0.25      , ..., 0.        , 0.        ,\n",
       "        0.        ],\n",
       "       [0.        , 1.        , 0.25      , ..., 0.        , 0.        ,\n",
       "        0.        ],\n",
       "       [0.25      , 0.25      , 1.        , ..., 0.        , 0.        ,\n",
       "        0.        ],\n",
       "       ...,\n",
       "       [0.        , 0.        , 0.        , ..., 1.        , 0.77459667,\n",
       "        0.40824829],\n",
       "       [0.        , 0.        , 0.        , ..., 0.77459667, 1.        ,\n",
       "        0.31622777],\n",
       "       [0.        , 0.        , 0.        , ..., 0.40824829, 0.31622777,\n",
       "        1.        ]])"
      ]
     },
     "execution_count": 20,
     "metadata": {},
     "output_type": "execute_result"
    }
   ],
   "source": [
    "similarity"
   ]
  },
  {
   "cell_type": "code",
   "execution_count": 59,
   "id": "c57ebab3",
   "metadata": {
    "id": "c57ebab3"
   },
   "outputs": [],
   "source": [
    "def recommend(movie):\n",
    "    x=0\n",
    "    for i in new['Title']:\n",
    "        if(i==movie):\n",
    "            break;\n",
    "        x=x+1\n",
    "    index = x\n",
    "    distances = sorted(list(enumerate(similarity[index])),reverse=True,key = lambda x: x[1])\n",
    "    for i in distances[1:6]:\n",
    "        print(new.iloc[i[0]].Title)"
   ]
  },
  {
   "cell_type": "code",
   "execution_count": 62,
   "id": "5ee93caf",
   "metadata": {
    "colab": {
     "base_uri": "https://localhost:8080/",
     "height": 141
    },
    "id": "5ee93caf",
    "outputId": "590dc535-dadd-4ca1-f207-efd09d125ae0"
   },
   "outputs": [
    {
     "name": "stdout",
     "output_type": "stream",
     "text": [
      "Band bent-over row\n",
      "Bent Over Barbell Row\n",
      "Barbell bent-over row\n",
      "Dumbbell bent-over row\n",
      "Band seated row\n"
     ]
    }
   ],
   "source": [
    "recommend('Heavy band bent-over row')"
   ]
  },
  {
   "cell_type": "code",
   "execution_count": 24,
   "id": "5df0069b",
   "metadata": {
    "id": "5df0069b"
   },
   "outputs": [
    {
     "data": {
      "text/plain": [
       "(1359, 2)"
      ]
     },
     "execution_count": 24,
     "metadata": {},
     "output_type": "execute_result"
    }
   ],
   "source": [
    "\n"
   ]
  },
  {
   "cell_type": "code",
   "execution_count": 57,
   "id": "90057cf3",
   "metadata": {},
   "outputs": [],
   "source": [
    "\n",
    "\n"
   ]
  },
  {
   "cell_type": "code",
   "execution_count": 58,
   "id": "6f26e0ee",
   "metadata": {},
   "outputs": [
    {
     "data": {
      "text/plain": [
       "791"
      ]
     },
     "execution_count": 58,
     "metadata": {},
     "output_type": "execute_result"
    }
   ],
   "source": [
    "x"
   ]
  },
  {
   "cell_type": "code",
   "execution_count": null,
   "id": "f93b9b11",
   "metadata": {},
   "outputs": [],
   "source": []
  }
 ],
 "metadata": {
  "colab": {
   "provenance": []
  },
  "kernelspec": {
   "display_name": "Python 3 (ipykernel)",
   "language": "python",
   "name": "python3"
  },
  "language_info": {
   "codemirror_mode": {
    "name": "ipython",
    "version": 3
   },
   "file_extension": ".py",
   "mimetype": "text/x-python",
   "name": "python",
   "nbconvert_exporter": "python",
   "pygments_lexer": "ipython3",
   "version": "3.11.5"
  }
 },
 "nbformat": 4,
 "nbformat_minor": 5
}
